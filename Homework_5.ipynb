{
 "cells": [
  {
   "cell_type": "code",
   "execution_count": 1,
   "metadata": {},
   "outputs": [],
   "source": [
    "import networkx as nx\n",
    "import matplotlib.pyplot as plt"
   ]
  },
  {
   "cell_type": "code",
   "execution_count": 2,
   "metadata": {},
   "outputs": [],
   "source": [
    "H = nx.read_edgelist(path=\"data/wiki-topcats-reduced.txt\", delimiter=\"\\t\")"
   ]
  },
  {
   "cell_type": "markdown",
   "metadata": {},
   "source": [
    "### RQ1"
   ]
  },
  {
   "cell_type": "code",
   "execution_count": 16,
   "metadata": {},
   "outputs": [
    {
     "name": "stdout",
     "output_type": "stream",
     "text": [
      "2174451\n",
      "461193\n",
      "False\n",
      "2.0446319786157265e-05\n",
      "9.429679114817441\n"
     ]
    }
   ],
   "source": [
    "print(len(H.edges.items()))\n",
    "print(len(H.nodes.items()))\n",
    "print(nx.is_directed(H))\n",
    "\n",
    "'''\n",
    "In mathematics, a dense graph is a graph in which the number\n",
    "of edges is close to the maximal number of edges.\n",
    "'''\n",
    "print(nx.density(H))\n",
    "\n",
    "# mean degree value\n",
    "mean = []\n",
    "\n",
    "for n in H.nodes.items():\n",
    "    mean.append(nx.degree(H, n[0]))\n",
    "\n",
    "print(sum(mean) / len(mean))"
   ]
  }
 ],
 "metadata": {
  "kernelspec": {
   "display_name": "Python 3",
   "language": "python",
   "name": "python3"
  },
  "language_info": {
   "codemirror_mode": {
    "name": "ipython",
    "version": 3
   },
   "file_extension": ".py",
   "mimetype": "text/x-python",
   "name": "python",
   "nbconvert_exporter": "python",
   "pygments_lexer": "ipython3",
   "version": "3.7.0"
  }
 },
 "nbformat": 4,
 "nbformat_minor": 2
}
