{
 "cells": [
  {
   "cell_type": "code",
   "execution_count": 2,
   "metadata": {},
   "outputs": [],
   "source": [
    "import networkx as nx\n",
    "import matplotlib.pyplot as plt\n",
    "\n",
    "data_path = './data/'\n",
    "reduced_graph_path = data_path + 'wiki-topcats-reduced.txt'\n",
    "page_names_path = data_path + 'wiki-topcats-page-names.txt'\n",
    "categories_path = data_path + 'wiki-topcats-categories.txt'"
   ]
  },
  {
   "cell_type": "code",
   "execution_count": 3,
   "metadata": {},
   "outputs": [],
   "source": [
    "H = nx.read_edgelist(path=reduced_graph_path, delimiter=\"\\t\", create_using=nx.DiGraph())"
   ]
  },
  {
   "cell_type": "markdown",
   "metadata": {},
   "source": [
    "### RQ1"
   ]
  },
  {
   "cell_type": "code",
   "execution_count": 4,
   "metadata": {},
   "outputs": [
    {
     "name": "stdout",
     "output_type": "stream",
     "text": [
      "2645247\n",
      "461193\n",
      "True\n",
      "1.2436602635647606e-05\n",
      "11.471323285479182\n"
     ]
    }
   ],
   "source": [
    "print(len(H.edges.items()))\n",
    "print(len(H.nodes.items()))\n",
    "print(nx.is_directed(H))\n",
    "\n",
    "'''\n",
    "In mathematics, a dense graph is a graph in which the number\n",
    "of edges is close to the maximal number of edges.\n",
    "'''\n",
    "print(nx.density(H))\n",
    "\n",
    "# mean degree value\n",
    "mean = []\n",
    "\n",
    "for n in H.nodes.items():\n",
    "    mean.append(nx.degree(H, n[0]))\n",
    "\n",
    "print(sum(mean) / len(mean))"
   ]
  },
  {
   "cell_type": "markdown",
   "metadata": {},
   "source": [
    "### RQ2"
   ]
  },
  {
   "cell_type": "markdown",
   "metadata": {},
   "source": [
    "We need to preprocess wiki-topcats-categories.txt file as we should consider categories that have 3500 articles, at least. We could do this using the famous bash tool \"awk\":\n",
    "\n",
    "```bash\n",
    "awk 'NF > 3501' data/wiki-topcats-categories.txt > data/wiki-topcats-categories__3500.txt\n",
    "```\n",
    "\n",
    "- NF is defined as 'Number of Fields' indicating the number of items inside a row (more generally, columns)\n",
    "- The value of 3501 is justified as we are considering the Category label (ex. Category:Telugu_actors; 581455 581966 582010 582033 582071 ... )\n",
    "\n",
    "Eventually, we count the lines of the resulting file (using another terminal tool called \"wc\")\n",
    "\n",
    "```bash\n",
    "wc -l data/wiki-topcats-categories__3500.txt\n",
    "```\n",
    "\n",
    "and we notice that the set of Categories has been narrowed down to **35** items from **17364**.\n",
    "\n",
    "```bash\n",
    "cut -f 1 -d ' ' data/wiki-topcats-categories__3500.txt\n",
    "```\n",
    "\n",
    "- \"f\" is the field position (or first columns, in this case)\n",
    "- \"d\" is the delimiter (space)\n",
    "\n",
    "These are the categories that satisfy our threshold\n",
    "\n",
    "```\n",
    "Category:English_footballers;\n",
    "Category:The_Football_League_players;\n",
    "Category:Association_football_forwards;\n",
    "Category:Association_football_goalkeepers;\n",
    "Category:Association_football_midfielders;\n",
    "Category:Association_football_defenders;\n",
    "Category:Living_people;\n",
    "Category:Year_of_birth_unknown;\n",
    "Category:Harvard_University_alumni;\n",
    "Category:Major_League_Baseball_pitchers;\n",
    "Category:Members_of_the_United_Kingdom_Parliament_for_English_constituencies;\n",
    "Category:Indian_films;\n",
    "Category:Year_of_death_missing;\n",
    "Category:English_cricketers;\n",
    "Category:Year_of_birth_missing_(living_people);\n",
    "Category:Rivers_of_Romania;\n",
    "Category:Main_Belt_asteroids;\n",
    "Category:Asteroids_named_for_people;\n",
    "Category:English-language_albums;\n",
    "Category:English_television_actors;\n",
    "Category:British_films;\n",
    "Category:English-language_films;\n",
    "Category:American_films;\n",
    "Category:Fellows_of_the_Royal_Society;\n",
    "Category:People_from_New_York_City;\n",
    "Category:American_Jews;\n",
    "Category:American_television_actors;\n",
    "Category:American_film_actors;\n",
    "Category:Debut_albums;\n",
    "Category:Black-and-white_films;\n",
    "Category:Year_of_birth_missing;\n",
    "Category:Place_of_birth_missing_(living_people);\n",
    "Category:Article_Feedback_Pilot;\n",
    "Category:American_military_personnel_of_World_War_II;\n",
    "Category:Windows_games;\n",
    "```"
   ]
  },
  {
   "cell_type": "code",
   "execution_count": 24,
   "metadata": {},
   "outputs": [],
   "source": [
    "# This has to be a list of lists where each element represents a category (list of articles)\n",
    "block_ranking = []\n",
    "categ2articles = {}\n",
    "articles2categ = {}\n",
    "\n",
    "with open(data_path + 'wiki-topcats-categories__3500.txt', 'r') as most_linked_categs:\n",
    "    for i, line in enumerate(most_linked_categs):\n",
    "        line = line.rstrip('\\n')\n",
    "        line = line.split()\n",
    "        \n",
    "        categ_name, articles = line[0].lstrip('Category:').rstrip(';'), line[1:]\n",
    "        \n",
    "        # C0 has to be added into block_ranking\n",
    "        if i == 0:\n",
    "            block_ranking.append(categ_name)\n",
    "        \n",
    "        # categ2articles\n",
    "        if not categ_name in categ2articles:\n",
    "            categ2articles[categ_name] = set(articles)\n",
    "        else:\n",
    "            categ2articles[categ_name].update(articles)\n",
    "        \n",
    "        # articles2categ\n",
    "        for a in articles:\n",
    "            if not a in articles2categ.items():\n",
    "                articles2categ[a] = set([categ_name])\n",
    "            else:\n",
    "                articles2categ[a].add(categ_name)"
   ]
  },
  {
   "cell_type": "code",
   "execution_count": 38,
   "metadata": {},
   "outputs": [
    {
     "name": "stdout",
     "output_type": "stream",
     "text": [
      "Categories: 35\n",
      "Category in position 0: English_footballers 9237\n",
      "Category in position 1: The_Football_League_players 9467\n"
     ]
    }
   ],
   "source": [
    "print('Categories:', len(categ2articles.items()))\n",
    "print('Category in position 0:', list(categ2articles.items())[0][0], len(list(categ2articles.items())[0][1]))\n",
    "print('Category in position 1:', list(categ2articles.items())[1][0], len(list(categ2articles.items())[1][1]))"
   ]
  },
  {
   "cell_type": "markdown",
   "metadata": {},
   "source": [
    "Now, we should compute the Shortest Path algorithm to get the nearest and the furthest Category from C0"
   ]
  },
  {
   "cell_type": "code",
   "execution_count": null,
   "metadata": {},
   "outputs": [],
   "source": []
  }
 ],
 "metadata": {
  "kernelspec": {
   "display_name": "Python 3",
   "language": "python",
   "name": "python3"
  },
  "language_info": {
   "codemirror_mode": {
    "name": "ipython",
    "version": 3
   },
   "file_extension": ".py",
   "mimetype": "text/x-python",
   "name": "python",
   "nbconvert_exporter": "python",
   "pygments_lexer": "ipython3",
   "version": "3.7.0"
  }
 },
 "nbformat": 4,
 "nbformat_minor": 2
}
